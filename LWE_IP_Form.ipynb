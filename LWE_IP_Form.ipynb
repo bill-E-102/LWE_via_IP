{
 "cells": [
  {
   "cell_type": "markdown",
   "metadata": {},
   "source": [
    "# Pyomo Formulation of Learning With Errors (LWE) Problem"
   ]
  },
  {
   "cell_type": "markdown",
   "metadata": {},
   "source": [
    "## Formulation Overview"
   ]
  },
  {
   "cell_type": "markdown",
   "metadata": {},
   "source": [
    "## Import Statements"
   ]
  },
  {
   "cell_type": "code",
   "execution_count": 1,
   "metadata": {},
   "outputs": [
    {
     "name": "stdout",
     "output_type": "stream",
     "text": [
      "Collecting pyomo\n",
      "  Downloading pyomo-6.9.2-cp39-cp39-macosx_11_0_arm64.whl.metadata (8.2 kB)\n",
      "Requirement already satisfied: ply in /Users/billbrink/miniforge3/envs/sage9/lib/python3.9/site-packages (from pyomo) (3.11)\n",
      "Downloading pyomo-6.9.2-cp39-cp39-macosx_11_0_arm64.whl (5.5 MB)\n",
      "\u001b[2K   \u001b[90m━━━━━━━━━━━━━━━━━━━━━━━━━━━━━━━━━━━━━━━━\u001b[0m \u001b[32m5.5/5.5 MB\u001b[0m \u001b[31m29.7 MB/s\u001b[0m eta \u001b[36m0:00:00\u001b[0ma \u001b[36m0:00:01\u001b[0m\n",
      "\u001b[?25hInstalling collected packages: pyomo\n",
      "Successfully installed pyomo-6.9.2\n",
      "Note: you may need to restart the kernel to use updated packages.\n"
     ]
    }
   ],
   "source": [
    "# Pyomo Import Statements\n",
    "\n",
    "%pip install pyomo\n",
    "import pyomo\n",
    "import pyomo.environ as pe\n",
    "from pyomo.opt import SolverFactory"
   ]
  },
  {
   "cell_type": "code",
   "execution_count": 2,
   "metadata": {},
   "outputs": [],
   "source": [
    "# Too Many Hints Library Import Statements\n",
    "from lwe_with_hints import *\n",
    "import numpy as np\n",
    "import time\n",
    "import math"
   ]
  },
  {
   "cell_type": "markdown",
   "metadata": {},
   "source": [
    "## Set Up LWE Instance"
   ]
  },
  {
   "cell_type": "code",
   "execution_count": 3,
   "metadata": {},
   "outputs": [
    {
     "name": "stdout",
     "output_type": "stream",
     "text": [
      "A Matrix, shape: (5, 10) : \n",
      " [[295 210 282 442 444 303 342 116 255 254]\n",
      " [278 433 338 122 386 508 140 104 163 115]\n",
      " [468  22 439 196  79 447 383 341  95 188]\n",
      " [195 426 403 137 230  10 294 156 499 134]\n",
      " [464  51  20 162 349 314 450 106 480 195]]\n",
      "b vector, shape: (10,) : \n",
      " [485 371 488 130 475 136 306  88 432 128]\n",
      "s (secret) vector, shape: (5,) : \n",
      " [-3 -2 -1  1 -2]\n",
      "e (error) vector, shape: (10,) : \n",
      " [ 1  2  2 -1  0  0 -4 -1 -5  1]\n"
     ]
    }
   ],
   "source": [
    "n = 5      # Number of Rows In Matrix\n",
    "m = 10      # Number of Columns In Matrix\n",
    "q = 521     # Prime Number For Finite Field Calculations  \n",
    "eta = 10    # Binomial Distribution Parameter \n",
    "\n",
    "A,b,q,s,e = lwe_gen.generateToyInstance(n,m,q,eta)\n",
    "\n",
    "# See Print Statements for Readability\n",
    "print(\"A Matrix, shape:\", A.shape, \": \\n\", A)\n",
    "print(\"b vector, shape:\", b.shape, \": \\n\", b)\n",
    "print(\"s (secret) vector, shape:\", s.shape, \": \\n\", s)\n",
    "print(\"e (error) vector, shape:\",e.shape, \": \\n\", e)\n",
    "\n"
   ]
  },
  {
   "cell_type": "code",
   "execution_count": null,
   "metadata": {},
   "outputs": [
    {
     "name": "stdout",
     "output_type": "stream",
     "text": [
      "1-Norm of e:  17\n"
     ]
    }
   ],
   "source": [
    "# The 1-Norm of e\n",
    "sum_i = 0\n",
    "for i in range(m):\n",
    "    sum_i += abs(e[i])\n",
    "print(\"1-Norm of e: \", sum_i)"
   ]
  },
  {
   "cell_type": "markdown",
   "metadata": {},
   "source": [
    "## Prepare LWE Instance for Formulation"
   ]
  },
  {
   "cell_type": "code",
   "execution_count": null,
   "metadata": {},
   "outputs": [
    {
     "name": "stdout",
     "output_type": "stream",
     "text": [
      "A_0 Matrix Shape:  (5, 5)\n",
      "A_1 Matrix Shape:  (5, 5)\n",
      "b_0 Matrix Shape:  (5,)\n",
      "b_1 Matrix Shape:  (5,)\n"
     ]
    }
   ],
   "source": [
    "# Partition A Matrix and b vector\n",
    "# Assumes Normality of A Matrix\n",
    "\n",
    "A_0 = A[:,:n]                 # Creates the Square Submatrix of A\n",
    "A_1 = A[:,n:]                 # Remaining Columns of A\n",
    "\n",
    "b_0 = b[:n] \n",
    "b_1 = b[n:]\n",
    "\n",
    "# Verify shapes\n",
    "print(\"A_0 Matrix Shape: \", A_0.shape)\n",
    "print(\"A_1 Matrix Shape: \", A_1.shape)\n",
    "print(\"b_0 Matrix Shape: \", b_0.shape)\n",
    "print(\"b_1 Matrix Shape: \", b_1.shape)"
   ]
  },
  {
   "cell_type": "markdown",
   "metadata": {},
   "source": [
    "### Find the Inverse of A_0"
   ]
  },
  {
   "cell_type": "code",
   "execution_count": 6,
   "metadata": {},
   "outputs": [],
   "source": [
    "# extended euclidean algo to find mod inverse of a in Z_q\n",
    "\n",
    "def mod_inverse(a, q):\n",
    "    t, new_t = 0, 1\n",
    "    r, new_r = q, a\n",
    "\n",
    "    while new_r != 0:\n",
    "        quotient = r // new_r\n",
    "        t, new_t = new_t, t - quotient * new_t\n",
    "        r, new_r = new_r, r - quotient * new_r\n",
    "\n",
    "    if r > 1:\n",
    "        raise ValueError(f\"{a} has no modular inverse under modulo {q}\")\n",
    "    if t < 0:\n",
    "        t = t + q\n",
    "\n",
    "    return t\n",
    "\n",
    "# inverts matrix in Z_q via gaussian elimination\n",
    "\n",
    "def invert_matrix_mod_q(matrix, q):\n",
    "    n = matrix.shape[0]\n",
    "    A = np.copy(matrix)\n",
    "    I = np.eye(n, dtype=int)\n",
    "    \n",
    "    # Gaussian elimination\n",
    "    for i in range(n):\n",
    "        factor = mod_inverse(A[i, i], q)\n",
    "        A[i, :] = (A[i, :] * factor) % q\n",
    "        I[i, :] = (I[i, :] * factor) % q\n",
    "\n",
    "        for j in range(n):\n",
    "            if i != j:\n",
    "                factor = A[j, i]\n",
    "                A[j, :] = (A[j, :] - factor * A[i, :]) % q\n",
    "                I[j, :] = (I[j, :] - factor * I[i, :]) % q\n",
    "\n",
    "    return I\n",
    "\n",
    "\n",
    "# sanity check function to ensure matrix inversion worked in finite field\n",
    "\n",
    "def confirm_inverse(matrix, inverse_matrix, q):\n",
    "    n = matrix.shape[0]\n",
    "    identity_matrix = np.eye(n, dtype=int)\n",
    "    product = np.dot(matrix, inverse_matrix) % q\n",
    "    return np.array_equal(product, identity_matrix)\n"
   ]
  },
  {
   "cell_type": "code",
   "execution_count": null,
   "metadata": {},
   "outputs": [
    {
     "name": "stdout",
     "output_type": "stream",
     "text": [
      "A_0_inv Matrix, shape: (5, 5) : \n",
      " [[228 202 379 152 459]\n",
      " [316 274 223 306 146]\n",
      " [181 397  16 243  79]\n",
      " [296 150 480 269 233]\n",
      " [112  20 449 116  35]]\n",
      "Inversion Checker:  True\n"
     ]
    }
   ],
   "source": [
    "# Find inverse of A_0\n",
    "A_0_inv = invert_matrix_mod_q(A_0,q)\n",
    "\n",
    "print(\"A_0_inv Matrix, shape:\", A_0_inv.shape, \": \\n\", A_0_inv)\n",
    "print(\"Inversion Checker: \", confirm_inverse(A_0,A_0_inv,q))"
   ]
  },
  {
   "cell_type": "markdown",
   "metadata": {},
   "source": [
    "### Phi Function"
   ]
  },
  {
   "cell_type": "code",
   "execution_count": 8,
   "metadata": {},
   "outputs": [],
   "source": [
    "# maps vectors in R^n to R^{m-n}\n",
    "\n",
    "def phi(v,A_0_inv,A_1,b_1,b_0,q):\n",
    "    tmp = np.dot(v,A_0_inv) % q\n",
    "    tmp = np.dot(tmp,A_1) % q\n",
    "    tmp = (tmp + b_1) % q\n",
    "    tmp_1 = np.dot(b_0,A_0_inv) % q\n",
    "    tmp_1 = np.dot(tmp_1,A_1) % q\n",
    "    res = (tmp - tmp_1) % q\n",
    "    return  res"
   ]
  },
  {
   "cell_type": "markdown",
   "metadata": {},
   "source": [
    "### Creating W Matrix and u Vector"
   ]
  },
  {
   "cell_type": "code",
   "execution_count": null,
   "metadata": {},
   "outputs": [
    {
     "name": "stdout",
     "output_type": "stream",
     "text": [
      "W Matrix, shape: (5, 5) : \n",
      " [[145. 407.  23. 187. 204.]\n",
      " [ 69. 402. 175. 333. 184.]\n",
      " [189. 320. 444. 122. 371.]\n",
      " [425. 268. 501. 330.   8.]\n",
      " [ 96. 341. 343. 153. 506.]]\n",
      "u vector, shape: (5,) : \n",
      " [285 497 281 270 258]\n",
      "Probalistic Bound on absolute of e:  9\n"
     ]
    }
   ],
   "source": [
    "# Prepare the W Matrix, vector u, and select natural number t\n",
    "\n",
    "W = np.empty((n,(m-n)))         \n",
    "iden_matrix = np.eye(n, dtype=int)     \n",
    "\n",
    "# create u vector\n",
    "zero_n = np.zeros(n, dtype=int)     \n",
    "u = phi(zero_n,A_0_inv,A_1,b_1,b_0,q) \n",
    "\n",
    "# iterate over basis vectors and create entries of W\n",
    "for i in range(n):\n",
    "    eps_i = iden_matrix[:,i]        # ith basis vector\n",
    "    phi_eps_i = phi(eps_i,A_0_inv,A_1,b_1,b_0,q)\n",
    "    for j in range(m-n):\n",
    "        psi_eps_i = (phi_eps_i - u) % q\n",
    "        W[i,j] = psi_eps_i[j]\n",
    "\n",
    "# probalistic bound for e\n",
    "t = int(3*math.sqrt(eta))\n",
    "\n",
    "print(\"W Matrix, shape:\", W.shape, \": \\n\", W)\n",
    "print(\"u vector, shape:\", u.shape, \": \\n\", u)\n",
    "print(\"Probalistic Bound on absolute of e: \", t)"
   ]
  },
  {
   "cell_type": "code",
   "execution_count": null,
   "metadata": {},
   "outputs": [
    {
     "name": "stdout",
     "output_type": "stream",
     "text": [
      "Dictionary version of W:  {(1, 1): 145, (1, 2): 407, (1, 3): 23, (1, 4): 187, (1, 5): 204, (2, 1): 69, (2, 2): 402, (2, 3): 175, (2, 4): 333, (2, 5): 184, (3, 1): 189, (3, 2): 320, (3, 3): 444, (3, 4): 122, (3, 5): 371, (4, 1): 425, (4, 2): 268, (4, 3): 501, (4, 4): 330, (4, 5): 8, (5, 1): 96, (5, 2): 341, (5, 3): 343, (5, 4): 153, (5, 5): 506}\n",
      "Dictionary version of u:  {1: 285, 2: 497, 3: 281, 4: 270, 5: 258}\n"
     ]
    }
   ],
   "source": [
    "# small change, convert W and u to dictionary for model import\n",
    "\n",
    "dict_W = {(i+1, j+1): int(W[i, j]) for i in range(W.shape[0]) for j in range(W.shape[1])}\n",
    "dict_u = {i+1: int(u[i]) for i in range(u.shape[0])}\n",
    "\n",
    "print(\"Dictionary version of W: \", dict_W)\n",
    "print(\"Dictionary version of u: \", dict_u)"
   ]
  },
  {
   "cell_type": "code",
   "execution_count": 11,
   "metadata": {},
   "outputs": [
    {
     "name": "stdout",
     "output_type": "stream",
     "text": [
      "y_con_low:  -23929\n",
      "y_con_high:  23409\n"
     ]
    }
   ],
   "source": [
    "y_con_low = -(t*(n*q - n + 1) + q - 1)\n",
    "y_con_high = (t*(n*q - n + 1))\n",
    "\n",
    "print(\"y_con_low: \", y_con_low)\n",
    "print(\"y_con_high: \", y_con_high)"
   ]
  },
  {
   "cell_type": "markdown",
   "metadata": {},
   "source": [
    "## Model Formulation"
   ]
  },
  {
   "cell_type": "markdown",
   "metadata": {},
   "source": [
    "### Model with Cutoff Constraint (Bounded Objective Function)"
   ]
  },
  {
   "cell_type": "code",
   "execution_count": 12,
   "metadata": {},
   "outputs": [
    {
     "name": "stdout",
     "output_type": "stream",
     "text": [
      "60\n"
     ]
    }
   ],
   "source": [
    "solver = pe.SolverFactory('cbc')\n",
    "solver.options['maxSo'] = 2\n",
    "solver.options['cutoff'] = 2*int(math.sqrt(m))*eta\n",
    "\n",
    "print(2*int(math.sqrt(m))*eta)"
   ]
  },
  {
   "cell_type": "code",
   "execution_count": null,
   "metadata": {},
   "outputs": [],
   "source": [
    "model = pe.ConcreteModel()\n",
    "model.M = pe.RangeSet(1, m)\n",
    "model.N = pe.RangeSet(1,n)\n",
    "model.mn = pe.RangeSet(1, (m-n))\n",
    "\n",
    "model.u_param_vec = pe.Param(model.mn, initialize=0, mutable=True)\n",
    "model.W_param_matrix = pe.Param(model.N, model.mn, initialize=0, mutable=True)\n",
    "\n",
    "for i in range(n):\n",
    "    for j in range(m-n):\n",
    "        model.u_param_vec[j+1] = int(u[j])\n",
    "        model.W_param_matrix[i+1, j+1] = int(W[i, j])\n",
    "\n",
    "model.X = pe.Var(model.M, within=pe.Integers)\n",
    "model.Y = pe.Var(model.mn, within=pe.Integers)\n",
    "model.a = pe.Var(model.M, within=pe.NonNegativeIntegers)\n",
    "model.b = pe.Var(model.M, within=pe.NonNegativeIntegers)"
   ]
  },
  {
   "cell_type": "code",
   "execution_count": 14,
   "metadata": {},
   "outputs": [],
   "source": [
    "model.objective = pe.Objective(\n",
    "    expr=sum((model.a[i] + model.b[i]) for i in model.M),\n",
    "    sense=pe.minimize\n",
    ")"
   ]
  },
  {
   "cell_type": "code",
   "execution_count": 15,
   "metadata": {},
   "outputs": [],
   "source": [
    "model.con_W_u = pe.Constraint(model.mn, \n",
    "    rule=lambda model, i: (( sum((model.W_param_matrix[j,i] * model.X[j]) for j in model.N) - model.X[n+i] + (q * model.Y[i])) == -model.u_param_vec[i]))\n",
    "\n",
    "model.linearize_obj = pe.Constraint(model.M, \n",
    "    rule=lambda model, i: model.a[i] - model.b[i] == model.X[i])\n",
    "\n",
    "model.max_X = pe.Constraint(model.M, \n",
    "    rule=lambda model, i: model.X[i] <= t)\n",
    "\n",
    "model.min_X = pe.Constraint(model.M, \n",
    "    rule=lambda model, i: model.X[i] >= -t)\n",
    "\n",
    "model.max_Y = pe.Constraint(model.mn, \n",
    "    rule=lambda model, i: model.Y[i] <= y_con_high)\n",
    "\n",
    "model.min_Y = pe.Constraint(model.mn, \n",
    "    rule=lambda model, i: model.Y[i] >= y_con_low)"
   ]
  },
  {
   "cell_type": "code",
   "execution_count": 16,
   "metadata": {},
   "outputs": [],
   "source": [
    "instance = model.create_instance()\n",
    "#instance.pprint()"
   ]
  },
  {
   "cell_type": "code",
   "execution_count": 17,
   "metadata": {},
   "outputs": [
    {
     "name": "stdout",
     "output_type": "stream",
     "text": [
      "Solver log file: '/var/folders/jh/gbzy3b7d3p92kqxrjmhg0h4w0000gn/T/tmpkt0sn2j9.cbc.log'\n",
      "Solver solution file: '/var/folders/jh/gbzy3b7d3p92kqxrjmhg0h4w0000gn/T/tmpscloxhy7.pyomo.soln'\n",
      "Solver problem files: ('/var/folders/jh/gbzy3b7d3p92kqxrjmhg0h4w0000gn/T/tmpscloxhy7.pyomo.lp',)\n",
      "Welcome to the CBC MILP Solver \n",
      "Version: 2.10.12 \n",
      "Build Date: Aug 20 2024 \n",
      "\n",
      "command line - /opt/homebrew/bin/cbc -maxSo 2 -cutoff 60 -printingOptions all -import /var/folders/jh/gbzy3b7d3p92kqxrjmhg0h4w0000gn/T/tmpscloxhy7.pyomo.lp -stat=1 -solve -solu /var/folders/jh/gbzy3b7d3p92kqxrjmhg0h4w0000gn/T/tmpscloxhy7.pyomo.soln (default strategy 1)\n",
      "maxSolutions was changed from 2147483647 to 2\n",
      "cutoff was changed from 1e+100 to 60\n",
      "Option for printingOptions changed from normal to all\n",
      "Presolve is modifying 30 integer bounds and re-presolving\n",
      "Presolve 15 (-30) rows, 35 (0) columns and 65 (-30) elements\n",
      "Statistics for presolved model\n",
      "Original problem has 35 integers (0 of which binary)\n",
      "==== 15 zero objective 2 different\n",
      "15 variables have objective of 0\n",
      "20 variables have objective of 1\n",
      "==== absolute objective values 2 different\n",
      "15 variables have objective of 0\n",
      "20 variables have objective of 1\n",
      "==== for integers 15 zero objective 2 different\n",
      "15 variables have objective of 0\n",
      "20 variables have objective of 1\n",
      "==== for integers absolute objective values 2 different\n",
      "15 variables have objective of 0\n",
      "20 variables have objective of 1\n",
      "===== end objective counts\n",
      "\n",
      "\n",
      "Problem has 15 rows, 35 columns (20 with objective) and 65 elements\n",
      "There are 20 singletons with objective 5 singletons with no objective \n",
      "Column breakdown:\n",
      "20 of type 0.0->inf, 0 of type 0.0->up, 0 of type lo->inf, \n",
      "15 of type lo->up, 0 of type free, 0 of type fixed, \n",
      "0 of type -inf->0.0, 0 of type -inf->up, 0 of type 0.0->1.0 \n",
      "Row breakdown:\n",
      "10 of type E 0.0, 0 of type E 1.0, 0 of type E -1.0, \n",
      "5 of type E other, 0 of type G 0.0, 0 of type G 1.0, \n",
      "0 of type G other, 0 of type L 0.0, 0 of type L 1.0, \n",
      "0 of type L other, 0 of type Range 0.0->1.0, 0 of type Range other, \n",
      "0 of type Free \n",
      "Continuous objective value is 0 - 0.00 seconds\n",
      "Cgl0003I 0 fixed, 20 tightened bounds, 0 strengthened rows, 0 substitutions\n",
      "Cgl0004I processed model has 15 rows, 35 columns (35 integer (0 of which binary)) and 65 elements\n",
      "Cutoff increment increased from 1e-05 to 0.9999\n",
      "Cbc0031I 4 added rows had average density of 25\n",
      "Cbc0013I At root node, 4 cuts changed objective from 0 to 2.418809 in 100 passes\n",
      "Cbc0014I Cut generator 0 (Probing) - 0 row cuts average 0.0 elements, 0 column cuts (0 active)  in 0.002 seconds - new frequency is -100\n",
      "Cbc0014I Cut generator 1 (Gomory) - 468 row cuts average 23.8 elements, 0 column cuts (0 active)  in 0.004 seconds - new frequency is 1\n",
      "Cbc0014I Cut generator 2 (Knapsack) - 0 row cuts average 0.0 elements, 0 column cuts (0 active)  in 0.002 seconds - new frequency is -100\n",
      "Cbc0014I Cut generator 3 (Clique) - 0 row cuts average 0.0 elements, 0 column cuts (0 active)  in 0.000 seconds - new frequency is -100\n",
      "Cbc0014I Cut generator 4 (MixedIntegerRounding2) - 3 row cuts average 12.0 elements, 0 column cuts (0 active)  in 0.000 seconds - new frequency is -100\n",
      "Cbc0014I Cut generator 5 (FlowCover) - 0 row cuts average 0.0 elements, 0 column cuts (0 active)  in 0.001 seconds - new frequency is -100\n",
      "Cbc0014I Cut generator 6 (TwoMirCuts) - 52 row cuts average 18.2 elements, 0 column cuts (0 active)  in 0.003 seconds - new frequency is 1\n",
      "Cbc0010I After 0 nodes, 1 on tree, 1e+50 best solution, best possible 2.418809 (0.03 seconds)\n",
      "Cbc0010I After 1000 nodes, 7 on tree, 1e+50 best solution, best possible 2.418809 (0.82 seconds)\n",
      "Cbc0010I After 2000 nodes, 13 on tree, 1e+50 best solution, best possible 2.6617663 (1.77 seconds)\n",
      "Cbc0010I After 3000 nodes, 15 on tree, 1e+50 best solution, best possible 2.6617663 (2.13 seconds)\n",
      "Cbc0010I After 4000 nodes, 13 on tree, 1e+50 best solution, best possible 2.6617663 (2.50 seconds)\n",
      "Cbc0010I After 5000 nodes, 14 on tree, 1e+50 best solution, best possible 2.6617663 (2.91 seconds)\n",
      "Cbc0010I After 6000 nodes, 26 on tree, 1e+50 best solution, best possible 2.6943788 (3.25 seconds)\n",
      "Cbc0010I After 7000 nodes, 22 on tree, 1e+50 best solution, best possible 2.6943788 (3.65 seconds)\n",
      "Cbc0010I After 8000 nodes, 22 on tree, 1e+50 best solution, best possible 2.6943788 (3.97 seconds)\n",
      "Cbc0010I After 9000 nodes, 18 on tree, 1e+50 best solution, best possible 2.6943788 (4.31 seconds)\n",
      "Cbc0010I After 10000 nodes, 29 on tree, 1e+50 best solution, best possible 2.7154546 (4.61 seconds)\n",
      "Cbc0004I Integer solution of 17 found after 144195 iterations and 10558 nodes (4.81 seconds)\n",
      "Cbc0038I Full problem 15 rows 35 columns, reduced to 5 rows 11 columns\n",
      "Cbc0038I Full problem 15 rows 35 columns, reduced to 9 rows 17 columns\n",
      "Cbc0038I Full problem 15 rows 35 columns, reduced to 7 rows 13 columns\n",
      "Cbc0038I Full problem 15 rows 35 columns, reduced to 6 rows 11 columns\n",
      "Cbc0010I After 11000 nodes, 78 on tree, 17 best solution, best possible 2.7154546 (4.99 seconds)\n",
      "Cbc0038I Full problem 15 rows 35 columns, reduced to 2 rows 4 columns\n",
      "Cbc0038I Full problem 15 rows 35 columns, reduced to 7 rows 13 columns\n",
      "Cbc0038I Full problem 15 rows 35 columns, reduced to 1 rows 2 columns\n",
      "Cbc0038I Full problem 15 rows 35 columns, reduced to 2 rows 4 columns\n",
      "Cbc0038I Full problem 15 rows 35 columns, reduced to 2 rows 4 columns\n",
      "Cbc0038I Full problem 15 rows 35 columns, reduced to 2 rows 4 columns\n",
      "Cbc0038I Full problem 15 rows 35 columns, reduced to 9 rows 17 columns\n",
      "Cbc0038I Full problem 15 rows 35 columns, reduced to 2 rows 4 columns\n",
      "Cbc0038I Full problem 15 rows 35 columns, reduced to 1 rows 2 columns\n",
      "Cbc0038I Full problem 15 rows 35 columns, reduced to 9 rows 17 columns\n",
      "Cbc0010I After 12000 nodes, 393 on tree, 17 best solution, best possible 9.8200829 (5.60 seconds)\n",
      "Cbc0038I Full problem 15 rows 35 columns, reduced to 1 rows 2 columns\n",
      "Cbc0038I Full problem 15 rows 35 columns, reduced to 2 rows 8 columns\n",
      "Cbc0038I Full problem 15 rows 35 columns, reduced to 0 rows 0 columns\n",
      "Cbc0038I Full problem 15 rows 35 columns, reduced to 4 rows 8 columns\n",
      "Cbc0038I Full problem 15 rows 35 columns, reduced to 2 rows 7 columns\n",
      "Cbc0038I Full problem 15 rows 35 columns, reduced to 1 rows 2 columns\n",
      "Cbc0038I Full problem 15 rows 35 columns, reduced to 3 rows 10 columns\n",
      "Cbc0010I After 13000 nodes, 602 on tree, 17 best solution, best possible 11.586784 (6.03 seconds)\n",
      "Cbc0038I Full problem 15 rows 35 columns, reduced to 3 rows 10 columns\n",
      "Cbc0038I Full problem 15 rows 35 columns, reduced to 3 rows 6 columns\n",
      "Cbc0038I Full problem 15 rows 35 columns, reduced to 1 rows 2 columns\n",
      "Cbc0038I Full problem 15 rows 35 columns, reduced to 3 rows 6 columns\n",
      "Cbc0010I After 14000 nodes, 396 on tree, 17 best solution, best possible 11.586784 (6.20 seconds)\n",
      "Cbc0038I Full problem 15 rows 35 columns, reduced to 2 rows 4 columns\n",
      "Cbc0038I Full problem 15 rows 35 columns, reduced to 1 rows 2 columns\n",
      "Cbc0038I Full problem 15 rows 35 columns, reduced to 8 rows 15 columns\n",
      "Cbc0038I Full problem 15 rows 35 columns, reduced to 2 rows 8 columns\n",
      "Cbc0038I Full problem 15 rows 35 columns, reduced to 3 rows 10 columns\n",
      "Cbc0038I Full problem 15 rows 35 columns, reduced to 3 rows 9 columns\n",
      "Cbc0010I After 15000 nodes, 457 on tree, 17 best solution, best possible 13.282462 (6.55 seconds)\n",
      "Cbc0038I Full problem 15 rows 35 columns, reduced to 2 rows 4 columns\n",
      "Cbc0038I Full problem 15 rows 35 columns, reduced to 2 rows 4 columns\n",
      "Cbc0038I Full problem 15 rows 35 columns, reduced to 4 rows 12 columns\n",
      "Cbc0038I Full problem 15 rows 35 columns, reduced to 4 rows 11 columns\n",
      "Cbc0038I Full problem 15 rows 35 columns, reduced to 3 rows 10 columns\n",
      "Cbc0010I After 16000 nodes, 366 on tree, 17 best solution, best possible 14.716302 (6.83 seconds)\n",
      "Cbc0038I Full problem 15 rows 35 columns, reduced to 1 rows 2 columns\n",
      "Cbc0038I Full problem 15 rows 35 columns, reduced to 1 rows 2 columns\n",
      "Cbc0038I Full problem 15 rows 35 columns, reduced to 2 rows 4 columns\n",
      "Cbc0038I Full problem 15 rows 35 columns, reduced to 4 rows 8 columns\n",
      "Cbc0038I Full problem 15 rows 35 columns, reduced to 7 rows 13 columns\n",
      "Cbc0038I Full problem 15 rows 35 columns, reduced to 2 rows 8 columns\n",
      "Cbc0010I After 17000 nodes, 66 on tree, 17 best solution, best possible 15.846233 (6.99 seconds)\n",
      "Cbc0038I Full problem 15 rows 35 columns, reduced to 8 rows 15 columns\n",
      "Cbc0001I Search completed - best objective 17, took 749259 iterations and 242798 nodes (7.00 seconds)\n",
      "Cbc0032I Strong branching done 84048 times (157730 iterations), fathomed 505 nodes and fixed 3697 variables\n",
      "Cbc0041I Maximum depth 24, 8371 variables fixed on reduced cost (complete fathoming 2859 times, 225661 nodes taking 512801 iterations)\n",
      "Cuts at root node changed objective from 0 to 2.41881\n",
      "Probing was tried 100 times and created 0 cuts of which 0 were active after adding rounds of cuts (0.002 seconds)\n",
      "Gomory was tried 51827 times and created 154450 cuts of which 0 were active after adding rounds of cuts (1.489 seconds)\n",
      "Knapsack was tried 100 times and created 0 cuts of which 0 were active after adding rounds of cuts (0.002 seconds)\n",
      "Clique was tried 100 times and created 0 cuts of which 0 were active after adding rounds of cuts (0.000 seconds)\n",
      "MixedIntegerRounding2 was tried 100 times and created 3 cuts of which 0 were active after adding rounds of cuts (0.000 seconds)\n",
      "FlowCover was tried 100 times and created 0 cuts of which 0 were active after adding rounds of cuts (0.001 seconds)\n",
      "TwoMirCuts was tried 51827 times and created 32188 cuts of which 0 were active after adding rounds of cuts (1.014 seconds)\n",
      "ZeroHalf was tried 1 times and created 0 cuts of which 0 were active after adding rounds of cuts (0.000 seconds)\n",
      "\n",
      "Result - Optimal solution found\n",
      "\n",
      "Objective value:                17.00000000\n",
      "Enumerated nodes:               242798\n",
      "Total iterations:               749259\n",
      "Time (CPU seconds):             7.00\n",
      "Time (Wallclock seconds):       7.65\n",
      "\n",
      "Total time (CPU seconds):       7.00   (Wallclock seconds):       7.65\n",
      "\n"
     ]
    }
   ],
   "source": [
    "results = solver.solve(model, tee = True, keepfiles = True)"
   ]
  },
  {
   "cell_type": "code",
   "execution_count": 18,
   "metadata": {},
   "outputs": [],
   "source": [
    "# Turn Solver Results into array\n",
    "\n",
    "x_values = np.zeros(len(model.M))\n",
    "for i in model.M:\n",
    "    x_values[i-1] = pe.value(model.X[i])"
   ]
  },
  {
   "cell_type": "code",
   "execution_count": 19,
   "metadata": {},
   "outputs": [
    {
     "name": "stdout",
     "output_type": "stream",
     "text": [
      "IP Solver Result for error vector e:  [ 1.  2.  2. -1.  0.  0. -4. -1. -5.  1.]\n",
      "Actual error vector e:  [ 1  2  2 -1  0  0 -4 -1 -5  1]\n"
     ]
    }
   ],
   "source": [
    "# Print out results\n",
    "\n",
    "print(\"IP Solver Result for error vector e: \", x_values)\n",
    "print(\"Actual error vector e: \", e)"
   ]
  },
  {
   "cell_type": "code",
   "execution_count": 20,
   "metadata": {},
   "outputs": [
    {
     "name": "stdout",
     "output_type": "stream",
     "text": [
      "IP Solver Result for secret vector s:  [518. 519. 520.   1. 519.]\n",
      "Original secret vector s (in mod q space):  [518 519 520   1 519]\n"
     ]
    }
   ],
   "source": [
    "# Using solver's prediction for the error vector, find s and compare with original\n",
    "\n",
    "print(\"IP Solver Result for secret vector s: \", (np.dot( ((b_0 - x_values[:n]) % q), A_0_inv) % q) )\n",
    "print(\"Original secret vector s (in mod q space): \", s % q)"
   ]
  },
  {
   "cell_type": "markdown",
   "metadata": {},
   "source": [
    "### Model without Cutoff Constraint (Unbounded Objective Function)"
   ]
  },
  {
   "cell_type": "code",
   "execution_count": 21,
   "metadata": {},
   "outputs": [],
   "source": [
    "solver.options['cutoff'] = 1e50     # Default cbc solver cutoff value"
   ]
  },
  {
   "cell_type": "code",
   "execution_count": 22,
   "metadata": {},
   "outputs": [
    {
     "name": "stdout",
     "output_type": "stream",
     "text": [
      "Solver log file: '/var/folders/jh/gbzy3b7d3p92kqxrjmhg0h4w0000gn/T/tmpt8c8isit.cbc.log'\n",
      "Solver solution file: '/var/folders/jh/gbzy3b7d3p92kqxrjmhg0h4w0000gn/T/tmp5_mrl5vi.pyomo.soln'\n",
      "Solver problem files: ('/var/folders/jh/gbzy3b7d3p92kqxrjmhg0h4w0000gn/T/tmp5_mrl5vi.pyomo.lp',)\n",
      "Welcome to the CBC MILP Solver \n",
      "Version: 2.10.12 \n",
      "Build Date: Aug 20 2024 \n",
      "\n",
      "command line - /opt/homebrew/bin/cbc -maxSo 2 -cutoff 1e+50 -printingOptions all -import /var/folders/jh/gbzy3b7d3p92kqxrjmhg0h4w0000gn/T/tmp5_mrl5vi.pyomo.lp -stat=1 -solve -solu /var/folders/jh/gbzy3b7d3p92kqxrjmhg0h4w0000gn/T/tmp5_mrl5vi.pyomo.soln (default strategy 1)\n",
      "maxSolutions was changed from 2147483647 to 2\n",
      "cutoff was changed from 1e+100 to 1e+50\n",
      "Option for printingOptions changed from normal to all\n",
      "Presolve is modifying 30 integer bounds and re-presolving\n",
      "Presolve 15 (-30) rows, 35 (0) columns and 65 (-30) elements\n",
      "Statistics for presolved model\n",
      "Original problem has 35 integers (0 of which binary)\n",
      "==== 15 zero objective 2 different\n",
      "15 variables have objective of 0\n",
      "20 variables have objective of 1\n",
      "==== absolute objective values 2 different\n",
      "15 variables have objective of 0\n",
      "20 variables have objective of 1\n",
      "==== for integers 15 zero objective 2 different\n",
      "15 variables have objective of 0\n",
      "20 variables have objective of 1\n",
      "==== for integers absolute objective values 2 different\n",
      "15 variables have objective of 0\n",
      "20 variables have objective of 1\n",
      "===== end objective counts\n",
      "\n",
      "\n",
      "Problem has 15 rows, 35 columns (20 with objective) and 65 elements\n",
      "There are 20 singletons with objective 5 singletons with no objective \n",
      "Column breakdown:\n",
      "20 of type 0.0->inf, 0 of type 0.0->up, 0 of type lo->inf, \n",
      "15 of type lo->up, 0 of type free, 0 of type fixed, \n",
      "0 of type -inf->0.0, 0 of type -inf->up, 0 of type 0.0->1.0 \n",
      "Row breakdown:\n",
      "10 of type E 0.0, 0 of type E 1.0, 0 of type E -1.0, \n",
      "5 of type E other, 0 of type G 0.0, 0 of type G 1.0, \n",
      "0 of type G other, 0 of type L 0.0, 0 of type L 1.0, \n",
      "0 of type L other, 0 of type Range 0.0->1.0, 0 of type Range other, \n",
      "0 of type Free \n",
      "Continuous objective value is 0 - 0.00 seconds\n",
      "Cgl0003I 0 fixed, 20 tightened bounds, 0 strengthened rows, 0 substitutions\n",
      "Cgl0004I processed model has 15 rows, 35 columns (35 integer (0 of which binary)) and 65 elements\n",
      "Cutoff increment increased from 1e-05 to 0.9999\n",
      "Cbc0031I 4 added rows had average density of 25\n",
      "Cbc0013I At root node, 4 cuts changed objective from 0 to 2.4188091 in 100 passes\n",
      "Cbc0014I Cut generator 0 (Probing) - 0 row cuts average 0.0 elements, 0 column cuts (0 active)  in 0.001 seconds - new frequency is -100\n",
      "Cbc0014I Cut generator 1 (Gomory) - 468 row cuts average 23.8 elements, 0 column cuts (0 active)  in 0.004 seconds - new frequency is 1\n",
      "Cbc0014I Cut generator 2 (Knapsack) - 0 row cuts average 0.0 elements, 0 column cuts (0 active)  in 0.002 seconds - new frequency is -100\n",
      "Cbc0014I Cut generator 3 (Clique) - 0 row cuts average 0.0 elements, 0 column cuts (0 active)  in 0.000 seconds - new frequency is -100\n",
      "Cbc0014I Cut generator 4 (MixedIntegerRounding2) - 3 row cuts average 12.0 elements, 0 column cuts (0 active)  in 0.000 seconds - new frequency is -100\n",
      "Cbc0014I Cut generator 5 (FlowCover) - 0 row cuts average 0.0 elements, 0 column cuts (0 active)  in 0.001 seconds - new frequency is -100\n",
      "Cbc0014I Cut generator 6 (TwoMirCuts) - 52 row cuts average 18.2 elements, 0 column cuts (0 active)  in 0.003 seconds - new frequency is 1\n",
      "Cbc0010I After 0 nodes, 1 on tree, 1e+50 best solution, best possible 2.4188091 (0.03 seconds)\n",
      "Cbc0010I After 1000 nodes, 156 on tree, 1e+50 best solution, best possible 2.4188091 (0.65 seconds)\n",
      "Cbc0010I After 2000 nodes, 178 on tree, 1e+50 best solution, best possible 2.6617661 (1.30 seconds)\n",
      "Cbc0010I After 3000 nodes, 172 on tree, 1e+50 best solution, best possible 2.6617661 (1.68 seconds)\n",
      "Cbc0010I After 4000 nodes, 173 on tree, 1e+50 best solution, best possible 2.6617661 (2.02 seconds)\n",
      "Cbc0010I After 5000 nodes, 171 on tree, 1e+50 best solution, best possible 2.6617661 (2.38 seconds)\n",
      "Cbc0010I After 6000 nodes, 184 on tree, 1e+50 best solution, best possible 2.69438 (2.72 seconds)\n",
      "Cbc0010I After 7000 nodes, 184 on tree, 1e+50 best solution, best possible 2.69438 (2.99 seconds)\n",
      "Cbc0010I After 8000 nodes, 185 on tree, 1e+50 best solution, best possible 2.69438 (3.27 seconds)\n",
      "Cbc0010I After 9000 nodes, 180 on tree, 1e+50 best solution, best possible 2.69438 (3.54 seconds)\n",
      "Cbc0010I After 10000 nodes, 189 on tree, 1e+50 best solution, best possible 2.7183123 (3.80 seconds)\n",
      "Cbc0010I After 11000 nodes, 189 on tree, 1e+50 best solution, best possible 2.7183123 (4.05 seconds)\n",
      "Cbc0010I After 12000 nodes, 647 on tree, 1e+50 best solution, best possible 8.6697368 (4.76 seconds)\n",
      "Cbc0010I After 13000 nodes, 1089 on tree, 1e+50 best solution, best possible 10.028261 (5.32 seconds)\n",
      "Cbc0010I After 14000 nodes, 1034 on tree, 1e+50 best solution, best possible 10.032068 (5.57 seconds)\n",
      "Cbc0010I After 15000 nodes, 989 on tree, 1e+50 best solution, best possible 10.032068 (5.80 seconds)\n",
      "Cbc0010I After 16000 nodes, 959 on tree, 1e+50 best solution, best possible 10.032512 (6.04 seconds)\n",
      "Cbc0010I After 17000 nodes, 951 on tree, 1e+50 best solution, best possible 10.032512 (6.27 seconds)\n",
      "Cbc0010I After 18000 nodes, 944 on tree, 1e+50 best solution, best possible 10.040179 (6.51 seconds)\n",
      "Cbc0010I After 19000 nodes, 909 on tree, 1e+50 best solution, best possible 10.040179 (6.73 seconds)\n",
      "Cbc0010I After 20000 nodes, 888 on tree, 1e+50 best solution, best possible 10.040179 (6.95 seconds)\n",
      "Cbc0010I After 21000 nodes, 872 on tree, 1e+50 best solution, best possible 10.040179 (7.18 seconds)\n",
      "Cbc0010I After 22000 nodes, 876 on tree, 1e+50 best solution, best possible 10.041642 (7.42 seconds)\n",
      "Cbc0010I After 23000 nodes, 870 on tree, 1e+50 best solution, best possible 10.041642 (7.68 seconds)\n",
      "Cbc0010I After 24000 nodes, 838 on tree, 1e+50 best solution, best possible 10.041642 (7.90 seconds)\n",
      "Cbc0010I After 25000 nodes, 826 on tree, 1e+50 best solution, best possible 10.041642 (8.14 seconds)\n",
      "Cbc0010I After 26000 nodes, 822 on tree, 1e+50 best solution, best possible 10.043625 (8.40 seconds)\n",
      "Cbc0010I After 27000 nodes, 820 on tree, 1e+50 best solution, best possible 10.043625 (8.62 seconds)\n",
      "Cbc0010I After 28000 nodes, 818 on tree, 1e+50 best solution, best possible 10.043625 (8.85 seconds)\n",
      "Cbc0010I After 29000 nodes, 815 on tree, 1e+50 best solution, best possible 10.043625 (9.07 seconds)\n",
      "Cbc0010I After 30000 nodes, 821 on tree, 1e+50 best solution, best possible 10.045386 (9.31 seconds)\n",
      "Cbc0010I After 31000 nodes, 818 on tree, 1e+50 best solution, best possible 10.045386 (9.54 seconds)\n",
      "Cbc0010I After 32000 nodes, 809 on tree, 1e+50 best solution, best possible 10.045386 (9.76 seconds)\n",
      "Cbc0010I After 33000 nodes, 791 on tree, 1e+50 best solution, best possible 10.045386 (9.98 seconds)\n",
      "Cbc0010I After 34000 nodes, 759 on tree, 1e+50 best solution, best possible 10.05067 (10.20 seconds)\n",
      "Cbc0010I After 35000 nodes, 750 on tree, 1e+50 best solution, best possible 10.05067 (10.42 seconds)\n",
      "Cbc0010I After 36000 nodes, 749 on tree, 1e+50 best solution, best possible 10.05067 (10.64 seconds)\n",
      "Cbc0010I After 37000 nodes, 742 on tree, 1e+50 best solution, best possible 10.05067 (10.86 seconds)\n",
      "Cbc0010I After 38000 nodes, 739 on tree, 1e+50 best solution, best possible 10.053346 (11.09 seconds)\n",
      "Cbc0010I After 39000 nodes, 740 on tree, 1e+50 best solution, best possible 10.053346 (11.32 seconds)\n",
      "Cbc0010I After 40000 nodes, 732 on tree, 1e+50 best solution, best possible 10.053346 (11.54 seconds)\n",
      "Cbc0010I After 41000 nodes, 737 on tree, 1e+50 best solution, best possible 10.053346 (11.76 seconds)\n",
      "Cbc0010I After 42000 nodes, 734 on tree, 1e+50 best solution, best possible 10.058959 (11.98 seconds)\n",
      "Cbc0010I After 43000 nodes, 725 on tree, 1e+50 best solution, best possible 10.058959 (12.19 seconds)\n",
      "Cbc0010I After 44000 nodes, 725 on tree, 1e+50 best solution, best possible 10.058959 (12.42 seconds)\n",
      "Cbc0010I After 45000 nodes, 720 on tree, 1e+50 best solution, best possible 10.058959 (12.64 seconds)\n",
      "Cbc0010I After 46000 nodes, 725 on tree, 1e+50 best solution, best possible 10.059751 (12.87 seconds)\n",
      "Cbc0010I After 47000 nodes, 724 on tree, 1e+50 best solution, best possible 10.059751 (13.09 seconds)\n",
      "Cbc0010I After 48000 nodes, 725 on tree, 1e+50 best solution, best possible 10.059751 (13.30 seconds)\n",
      "Cbc0010I After 49000 nodes, 724 on tree, 1e+50 best solution, best possible 10.059751 (13.52 seconds)\n",
      "Cbc0010I After 50000 nodes, 726 on tree, 1e+50 best solution, best possible 10.062545 (13.75 seconds)\n",
      "Cbc0010I After 51000 nodes, 725 on tree, 1e+50 best solution, best possible 10.062545 (13.97 seconds)\n",
      "Cbc0010I After 52000 nodes, 728 on tree, 1e+50 best solution, best possible 10.062545 (14.19 seconds)\n",
      "Cbc0010I After 53000 nodes, 724 on tree, 1e+50 best solution, best possible 10.062545 (14.41 seconds)\n",
      "Cbc0010I After 54000 nodes, 726 on tree, 1e+50 best solution, best possible 10.065892 (14.64 seconds)\n",
      "Cbc0010I After 55000 nodes, 720 on tree, 1e+50 best solution, best possible 10.065892 (14.86 seconds)\n",
      "Cbc0010I After 56000 nodes, 725 on tree, 1e+50 best solution, best possible 10.065892 (15.07 seconds)\n",
      "Cbc0010I After 57000 nodes, 720 on tree, 1e+50 best solution, best possible 10.065892 (15.30 seconds)\n",
      "Cbc0010I After 58000 nodes, 716 on tree, 1e+50 best solution, best possible 10.074221 (15.52 seconds)\n",
      "Cbc0010I After 59000 nodes, 714 on tree, 1e+50 best solution, best possible 10.074221 (15.74 seconds)\n",
      "Cbc0010I After 60000 nodes, 704 on tree, 1e+50 best solution, best possible 10.074221 (15.96 seconds)\n",
      "Cbc0010I After 61000 nodes, 697 on tree, 1e+50 best solution, best possible 10.074221 (16.18 seconds)\n",
      "Cbc0010I After 62000 nodes, 691 on tree, 1e+50 best solution, best possible 10.074746 (16.41 seconds)\n",
      "Cbc0010I After 63000 nodes, 667 on tree, 1e+50 best solution, best possible 10.074746 (16.63 seconds)\n",
      "Cbc0010I After 64000 nodes, 620 on tree, 1e+50 best solution, best possible 10.074746 (16.86 seconds)\n",
      "Cbc0010I After 65000 nodes, 619 on tree, 1e+50 best solution, best possible 10.074746 (17.09 seconds)\n",
      "Cbc0010I After 66000 nodes, 614 on tree, 1e+50 best solution, best possible 10.077754 (17.31 seconds)\n",
      "Cbc0010I After 67000 nodes, 607 on tree, 1e+50 best solution, best possible 10.077754 (17.54 seconds)\n",
      "Cbc0010I After 68000 nodes, 594 on tree, 1e+50 best solution, best possible 10.077754 (17.76 seconds)\n",
      "Cbc0010I After 69000 nodes, 588 on tree, 1e+50 best solution, best possible 10.077754 (17.98 seconds)\n",
      "Cbc0010I After 70000 nodes, 590 on tree, 1e+50 best solution, best possible 10.080058 (18.21 seconds)\n",
      "Cbc0010I After 71000 nodes, 585 on tree, 1e+50 best solution, best possible 10.080058 (18.44 seconds)\n",
      "Cbc0010I After 72000 nodes, 579 on tree, 1e+50 best solution, best possible 10.080058 (18.65 seconds)\n",
      "Cbc0010I After 73000 nodes, 577 on tree, 1e+50 best solution, best possible 10.080058 (18.87 seconds)\n",
      "Cbc0010I After 74000 nodes, 571 on tree, 1e+50 best solution, best possible 10.100928 (19.09 seconds)\n",
      "Cbc0010I After 75000 nodes, 557 on tree, 1e+50 best solution, best possible 10.100928 (19.30 seconds)\n",
      "Cbc0010I After 76000 nodes, 543 on tree, 1e+50 best solution, best possible 10.100928 (19.52 seconds)\n",
      "Cbc0010I After 77000 nodes, 532 on tree, 1e+50 best solution, best possible 10.100928 (19.74 seconds)\n",
      "Cbc0010I After 78000 nodes, 481 on tree, 1e+50 best solution, best possible 10.101701 (19.96 seconds)\n",
      "Cbc0010I After 79000 nodes, 477 on tree, 1e+50 best solution, best possible 10.101701 (20.19 seconds)\n",
      "Cbc0010I After 80000 nodes, 474 on tree, 1e+50 best solution, best possible 10.101701 (20.41 seconds)\n",
      "Cbc0010I After 81000 nodes, 470 on tree, 1e+50 best solution, best possible 10.101701 (20.63 seconds)\n",
      "Cbc0010I After 82000 nodes, 461 on tree, 1e+50 best solution, best possible 10.113727 (20.86 seconds)\n",
      "Cbc0010I After 83000 nodes, 461 on tree, 1e+50 best solution, best possible 10.113727 (21.08 seconds)\n",
      "Cbc0010I After 84000 nodes, 451 on tree, 1e+50 best solution, best possible 10.113727 (21.30 seconds)\n",
      "Cbc0010I After 85000 nodes, 447 on tree, 1e+50 best solution, best possible 10.113727 (21.52 seconds)\n",
      "Cbc0010I After 86000 nodes, 436 on tree, 1e+50 best solution, best possible 10.117842 (21.74 seconds)\n",
      "Cbc0010I After 87000 nodes, 425 on tree, 1e+50 best solution, best possible 10.117842 (21.96 seconds)\n",
      "Cbc0016I Integer solution of 19 found by strong branching after 1339225 iterations and 87184 nodes (22.00 seconds)\n",
      "Cbc0038I Full problem 15 rows 35 columns, reduced to 1 rows 2 columns\n",
      "Cbc0004I Integer solution of 17 found after 1339232 iterations and 87187 nodes (22.01 seconds)\n",
      "Cbc0019I Exiting on maximum solutions\n",
      "Cbc0005I Partial search - best objective 17 (best possible 10.117842), took 1481690 iterations and 187742 nodes (22.01 seconds)\n",
      "Cbc0032I Strong branching done 70142 times (127050 iterations), fathomed 570 nodes and fixed 3408 variables\n",
      "Cbc0041I Maximum depth 40, 1 variables fixed on reduced cost (complete fathoming 196 times, 100555 nodes taking 142458 iterations)\n",
      "Cuts at root node changed objective from 0 to 2.41881\n",
      "Probing was tried 100 times and created 0 cuts of which 0 were active after adding rounds of cuts (0.001 seconds)\n",
      "Gomory was tried 225112 times and created 858851 cuts of which 0 were active after adding rounds of cuts (6.173 seconds)\n",
      "Knapsack was tried 100 times and created 0 cuts of which 0 were active after adding rounds of cuts (0.002 seconds)\n",
      "Clique was tried 100 times and created 0 cuts of which 0 were active after adding rounds of cuts (0.000 seconds)\n",
      "MixedIntegerRounding2 was tried 100 times and created 3 cuts of which 0 were active after adding rounds of cuts (0.000 seconds)\n",
      "FlowCover was tried 100 times and created 0 cuts of which 0 were active after adding rounds of cuts (0.001 seconds)\n",
      "TwoMirCuts was tried 225112 times and created 125125 cuts of which 0 were active after adding rounds of cuts (3.921 seconds)\n",
      "ZeroHalf was tried 1 times and created 0 cuts of which 0 were active after adding rounds of cuts (0.000 seconds)\n",
      "\n",
      "Result - Stopped on solution limit\n",
      "\n",
      "Objective value:                17.00000000\n",
      "Lower bound:                    10.118\n",
      "Gap:                            0.68\n",
      "Enumerated nodes:               187742\n",
      "Total iterations:               1481690\n",
      "Time (CPU seconds):             22.01\n",
      "Time (Wallclock seconds):       23.71\n",
      "\n",
      "Total time (CPU seconds):       22.01   (Wallclock seconds):       23.71\n",
      "\n",
      "WARNING: Loading a SolverResults object with an 'aborted' status, but\n",
      "containing a solution\n"
     ]
    }
   ],
   "source": [
    "results = solver.solve(model, tee = True, keepfiles = True)"
   ]
  },
  {
   "cell_type": "code",
   "execution_count": null,
   "metadata": {},
   "outputs": [],
   "source": [
    "x_values = np.zeros(len(model.M))\n",
    "for i in model.M:\n",
    "    x_values[i-1] = pe.value(model.X[i])"
   ]
  },
  {
   "cell_type": "code",
   "execution_count": null,
   "metadata": {},
   "outputs": [
    {
     "name": "stdout",
     "output_type": "stream",
     "text": [
      "IP Solver Result for error vector e:  [ 1.  2.  2. -1.  0.  0. -4. -1. -5.  1.]\n",
      "Actual error vector e:  [ 1  2  2 -1  0  0 -4 -1 -5  1]\n"
     ]
    }
   ],
   "source": [
    "print(\"IP Solver Result for error vector e: \", x_values)\n",
    "print(\"Actual error vector e: \", e)"
   ]
  },
  {
   "cell_type": "code",
   "execution_count": null,
   "metadata": {},
   "outputs": [
    {
     "name": "stdout",
     "output_type": "stream",
     "text": [
      "IP Solver Result for secret vector s:  [518. 519. 520.   1. 519.]\n",
      "Original secret vector s (in mod q space):  [518 519 520   1 519]\n"
     ]
    }
   ],
   "source": [
    "# using solver's prediction for the error vector, find s and compare with original\n",
    "\n",
    "print(\"IP Solver Result for secret vector s: \", (np.dot( ((b_0 - x_values[:n]) % q), A_0_inv) % q) )\n",
    "print(\"Original secret vector s (in mod q space): \", s % q)"
   ]
  },
  {
   "cell_type": "markdown",
   "metadata": {},
   "source": [
    "## Lattice Reduction Algorithm Results (for comparison)"
   ]
  },
  {
   "cell_type": "code",
   "execution_count": 26,
   "metadata": {},
   "outputs": [
    {
     "name": "stdout",
     "output_type": "stream",
     "text": [
      "Starting lattice reduction.\n",
      "The function took 0.08894610404968262 seconds to run.\n",
      "The LWE secret is:\n",
      "[-3 -2 -1  1 -2]\n",
      "Lattice reduction found the following vector:\n",
      "[-1 -2 -2  1  0  0  4  1  5 -1 -3 -2 -1  1 -2 -1]\n"
     ]
    }
   ],
   "source": [
    "print(\"Starting lattice reduction.\")\n",
    "lattice = LWELattice(A,b,q)\n",
    "\n",
    "start_time = time.time()\n",
    "lattice.reduce()\n",
    "end_time = time.time()\n",
    "\n",
    "elapsed_time = end_time - start_time\n",
    "\n",
    "print(f\"The function took {elapsed_time} seconds to run.\")\n",
    "\n",
    "print(\"The LWE secret is:\")\n",
    "print(lattice.s)\n",
    "\n",
    "print(\"Lattice reduction found the following vector:\")\n",
    "print(lattice.shortestVector)"
   ]
  }
 ],
 "metadata": {
  "kernelspec": {
   "display_name": "sage9",
   "language": "python",
   "name": "python3"
  },
  "language_info": {
   "codemirror_mode": {
    "name": "ipython",
    "version": 3
   },
   "file_extension": ".py",
   "mimetype": "text/x-python",
   "name": "python",
   "nbconvert_exporter": "python",
   "pygments_lexer": "ipython3",
   "version": "3.9.19"
  }
 },
 "nbformat": 4,
 "nbformat_minor": 2
}
